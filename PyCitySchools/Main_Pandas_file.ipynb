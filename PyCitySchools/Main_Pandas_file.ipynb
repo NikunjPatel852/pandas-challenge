{
 "metadata": {
  "language_info": {
   "codemirror_mode": {
    "name": "ipython",
    "version": 3
   },
   "file_extension": ".py",
   "mimetype": "text/x-python",
   "name": "python",
   "nbconvert_exporter": "python",
   "pygments_lexer": "ipython3",
   "version": "3.8.5"
  },
  "orig_nbformat": 4,
  "kernelspec": {
   "name": "python3",
   "display_name": "Python 3.8.5 64-bit ('base': conda)"
  },
  "interpreter": {
   "hash": "44f552b7dcb52bdbe1465ff40af8423e5e341aff9e1890574e0400d00cd728be"
  }
 },
 "nbformat": 4,
 "nbformat_minor": 2,
 "cells": [
  {
   "cell_type": "code",
   "execution_count": 32,
   "metadata": {},
   "outputs": [],
   "source": [
    "import pandas as pd \n",
    "\n",
    "school_data_to_load = \"Resources\\schools_complete.csv\"\n",
    "student_data_to_load = \"Resources\\students_complete.csv\"\n",
    "\n",
    "school_data = pd.read_csv(school_data_to_load)\n",
    "student_data = pd.read_csv(student_data_to_load)"
   ]
  },
  {
   "cell_type": "code",
   "execution_count": 33,
   "metadata": {},
   "outputs": [
    {
     "output_type": "execute_result",
     "data": {
      "text/plain": [
       "   Student ID       student_name gender grade        school_name  \\\n",
       "0           0       Paul Bradley      M   9th  Huang High School   \n",
       "1           1       Victor Smith      M  12th  Huang High School   \n",
       "2           2    Kevin Rodriguez      M  12th  Huang High School   \n",
       "3           3  Dr. Richard Scott      M  12th  Huang High School   \n",
       "4           4         Bonnie Ray      F   9th  Huang High School   \n",
       "\n",
       "   reading_score  math_score  School ID      type  size   budget  \n",
       "0             66          79          0  District  2917  1910635  \n",
       "1             94          61          0  District  2917  1910635  \n",
       "2             90          60          0  District  2917  1910635  \n",
       "3             67          58          0  District  2917  1910635  \n",
       "4             97          84          0  District  2917  1910635  "
      ],
      "text/html": "<div>\n<style scoped>\n    .dataframe tbody tr th:only-of-type {\n        vertical-align: middle;\n    }\n\n    .dataframe tbody tr th {\n        vertical-align: top;\n    }\n\n    .dataframe thead th {\n        text-align: right;\n    }\n</style>\n<table border=\"1\" class=\"dataframe\">\n  <thead>\n    <tr style=\"text-align: right;\">\n      <th></th>\n      <th>Student ID</th>\n      <th>student_name</th>\n      <th>gender</th>\n      <th>grade</th>\n      <th>school_name</th>\n      <th>reading_score</th>\n      <th>math_score</th>\n      <th>School ID</th>\n      <th>type</th>\n      <th>size</th>\n      <th>budget</th>\n    </tr>\n  </thead>\n  <tbody>\n    <tr>\n      <th>0</th>\n      <td>0</td>\n      <td>Paul Bradley</td>\n      <td>M</td>\n      <td>9th</td>\n      <td>Huang High School</td>\n      <td>66</td>\n      <td>79</td>\n      <td>0</td>\n      <td>District</td>\n      <td>2917</td>\n      <td>1910635</td>\n    </tr>\n    <tr>\n      <th>1</th>\n      <td>1</td>\n      <td>Victor Smith</td>\n      <td>M</td>\n      <td>12th</td>\n      <td>Huang High School</td>\n      <td>94</td>\n      <td>61</td>\n      <td>0</td>\n      <td>District</td>\n      <td>2917</td>\n      <td>1910635</td>\n    </tr>\n    <tr>\n      <th>2</th>\n      <td>2</td>\n      <td>Kevin Rodriguez</td>\n      <td>M</td>\n      <td>12th</td>\n      <td>Huang High School</td>\n      <td>90</td>\n      <td>60</td>\n      <td>0</td>\n      <td>District</td>\n      <td>2917</td>\n      <td>1910635</td>\n    </tr>\n    <tr>\n      <th>3</th>\n      <td>3</td>\n      <td>Dr. Richard Scott</td>\n      <td>M</td>\n      <td>12th</td>\n      <td>Huang High School</td>\n      <td>67</td>\n      <td>58</td>\n      <td>0</td>\n      <td>District</td>\n      <td>2917</td>\n      <td>1910635</td>\n    </tr>\n    <tr>\n      <th>4</th>\n      <td>4</td>\n      <td>Bonnie Ray</td>\n      <td>F</td>\n      <td>9th</td>\n      <td>Huang High School</td>\n      <td>97</td>\n      <td>84</td>\n      <td>0</td>\n      <td>District</td>\n      <td>2917</td>\n      <td>1910635</td>\n    </tr>\n  </tbody>\n</table>\n</div>"
     },
     "metadata": {},
     "execution_count": 33
    }
   ],
   "source": [
    "school_data_complete = pd.merge(student_data, school_data, how=\"left\", on=['school_name','school_name'])\n",
    "school_data_complete.head()"
   ]
  },
  {
   "cell_type": "code",
   "execution_count": 34,
   "metadata": {},
   "outputs": [],
   "source": [
    "#To get the total number of schools using the Unique() function to find how many types they are than calculate totsl. \n",
    "Total_unique_schools = school_data['school_name'].unique()\n",
    "Total_schools = len(Total_unique_schools) \n",
    "\n",
    "#Total number of students\n",
    "Total_students = school_data_complete['student_name'].count()\n",
    "\n",
    "#Total Budget \n",
    "Total_budget = school_data['budget'].sum()\n",
    "\n",
    "#average math score \n",
    "Average_math_score = school_data_complete['math_score'].mean()\n",
    "#Average reading score\n",
    "Average_reading_score = school_data_complete['reading_score']. mean()\n",
    "\n",
    "# % pass math \n",
    "math_pass = len(school_data_complete.loc[school_data_complete['math_score']>=70])\n",
    "per_math_pass = math_pass / Total_students\n",
    "\n",
    "# % pass reading \n",
    "reading_pass = len(school_data_complete.loc[school_data_complete['reading_score'] >=70])\n",
    "per_reading_pass = reading_pass / Total_students\n",
    "\n",
    "# % Overall pass \n",
    "overall_pass = student_data[(student_data['math_score'] >=70) & (student_data['reading_score']>=70)]['student_name'].count()/Total_students"
   ]
  },
  {
   "cell_type": "code",
   "execution_count": 35,
   "metadata": {},
   "outputs": [
    {
     "output_type": "execute_result",
     "data": {
      "text/plain": [
       "   Total Schools  Total Students  Total Budget  Average Math score  \\\n",
       "0             15           39170      24649428           78.985371   \n",
       "\n",
       "   Average reading score  Math Pass  Reading Pass  Overall Pass  \n",
       "0               81.87784   0.749809      0.858055      0.651723  "
      ],
      "text/html": "<div>\n<style scoped>\n    .dataframe tbody tr th:only-of-type {\n        vertical-align: middle;\n    }\n\n    .dataframe tbody tr th {\n        vertical-align: top;\n    }\n\n    .dataframe thead th {\n        text-align: right;\n    }\n</style>\n<table border=\"1\" class=\"dataframe\">\n  <thead>\n    <tr style=\"text-align: right;\">\n      <th></th>\n      <th>Total Schools</th>\n      <th>Total Students</th>\n      <th>Total Budget</th>\n      <th>Average Math score</th>\n      <th>Average reading score</th>\n      <th>Math Pass</th>\n      <th>Reading Pass</th>\n      <th>Overall Pass</th>\n    </tr>\n  </thead>\n  <tbody>\n    <tr>\n      <th>0</th>\n      <td>15</td>\n      <td>39170</td>\n      <td>24649428</td>\n      <td>78.985371</td>\n      <td>81.87784</td>\n      <td>0.749809</td>\n      <td>0.858055</td>\n      <td>0.651723</td>\n    </tr>\n  </tbody>\n</table>\n</div>"
     },
     "metadata": {},
     "execution_count": 35
    }
   ],
   "source": [
    "#Create new dataframe for the calculated data from above.\n",
    "District_summary_unformated = pd.DataFrame({\n",
    "    \"Total Schools\": [Total_schools],\n",
    "    \"Total Students\": [Total_students],\n",
    "    \"Total Budget\": [Total_budget], \n",
    "    \"Average Math score\": [Average_math_score],\n",
    "    \"Average reading score\": [Average_reading_score], \n",
    "    \"Math Pass\": [per_math_pass],\n",
    "    \"Reading Pass\": [per_reading_pass], \n",
    "    \"Overall Pass\": [overall_pass], \n",
    "}) \n",
    "\n",
    "District_summary_unformated.head()"
   ]
  },
  {
   "cell_type": "code",
   "execution_count": 36,
   "metadata": {},
   "outputs": [
    {
     "output_type": "execute_result",
     "data": {
      "text/plain": [
       "<pandas.io.formats.style.Styler at 0x17c40334af0>"
      ],
      "text/html": "<style  type=\"text/css\" >\n</style><table id=\"T_29d75388_e2f3_11eb_bdf2_ccf9e49b12c9\" ><thead>    <tr>        <th class=\"blank level0\" ></th>        <th class=\"col_heading level0 col0\" >Total Schools</th>        <th class=\"col_heading level0 col1\" >Total Students</th>        <th class=\"col_heading level0 col2\" >Total Budget</th>        <th class=\"col_heading level0 col3\" >Average Math score</th>        <th class=\"col_heading level0 col4\" >Average reading score</th>        <th class=\"col_heading level0 col5\" >Math Pass</th>        <th class=\"col_heading level0 col6\" >Reading Pass</th>        <th class=\"col_heading level0 col7\" >Overall Pass</th>    </tr></thead><tbody>\n                <tr>\n                        <th id=\"T_29d75388_e2f3_11eb_bdf2_ccf9e49b12c9level0_row0\" class=\"row_heading level0 row0\" >0</th>\n                        <td id=\"T_29d75388_e2f3_11eb_bdf2_ccf9e49b12c9row0_col0\" class=\"data row0 col0\" >15</td>\n                        <td id=\"T_29d75388_e2f3_11eb_bdf2_ccf9e49b12c9row0_col1\" class=\"data row0 col1\" >39170</td>\n                        <td id=\"T_29d75388_e2f3_11eb_bdf2_ccf9e49b12c9row0_col2\" class=\"data row0 col2\" >$24,649,428.00</td>\n                        <td id=\"T_29d75388_e2f3_11eb_bdf2_ccf9e49b12c9row0_col3\" class=\"data row0 col3\" >79.0</td>\n                        <td id=\"T_29d75388_e2f3_11eb_bdf2_ccf9e49b12c9row0_col4\" class=\"data row0 col4\" >81.9</td>\n                        <td id=\"T_29d75388_e2f3_11eb_bdf2_ccf9e49b12c9row0_col5\" class=\"data row0 col5\" >75.0%</td>\n                        <td id=\"T_29d75388_e2f3_11eb_bdf2_ccf9e49b12c9row0_col6\" class=\"data row0 col6\" >85.8%</td>\n                        <td id=\"T_29d75388_e2f3_11eb_bdf2_ccf9e49b12c9row0_col7\" class=\"data row0 col7\" >65.2%</td>\n            </tr>\n    </tbody></table>"
     },
     "metadata": {},
     "execution_count": 36
    }
   ],
   "source": [
    "#Clean Date District_Summary_unformated by creating new data frame called District_summary_formated. \n",
    "District_summary_formated = District_summary_unformated[[\n",
    "    \"Total Schools\",\n",
    "    \"Total Students\",\n",
    "    \"Total Budget\", \n",
    "    \"Average Math score\",\n",
    "    \"Average reading score\", \n",
    "    \"Math Pass\",\n",
    "    \"Reading Pass\", \n",
    "    \"Overall Pass\", \n",
    "]]\n",
    "\n",
    "District_summary_formated.style.format({\n",
    "    \"Total Budget\": \"${:,.2f}\", \n",
    "    \"Average Math score\": \"{:.1f}\", \n",
    "    \"Average reading score\": \"{:.1f}\", \n",
    "    \"Math Pass\": \"{:.1%}\", \n",
    "    \"Reading Pass\": \"{:.1%}\", \n",
    "    \"Overall Pass\": \"{:.1%}\"\n",
    "})\n"
   ]
  },
  {
   "cell_type": "code",
   "execution_count": 37,
   "metadata": {},
   "outputs": [],
   "source": [
    "#School Summary\n",
    "#Create an overview table that summarizes key metrics about each school, including:\n",
    "    \n",
    "Results_by_School = school_data_complete.set_index('school_name').groupby(['school_name'])\n",
    "\n",
    "#School types \n",
    "Types_schools = school_data.set_index('school_name')['type']\n",
    "\n",
    "#Students total \n",
    "Students_per_school = Results_by_School['Student ID'].count()\n",
    "#School Budget \n",
    "Each_school_budget = school_data.set_index('school_name')['budget']\n",
    "#School Budget Per student \n",
    "Per_student_budget = school_data.set_index('school_name')['budget']/school_data.set_index('school_name')['size']\n",
    "\n",
    "# Average Math score per school\n",
    "School_math_average = Results_by_School['math_score'].mean()\n",
    "# Average Reading score per school \n",
    "School_reading_average = Results_by_School['reading_score'].mean()\n",
    "# %% score for math each school \n",
    "Per_School_math = school_data_complete[school_data_complete['math_score'] >= 70].groupby('school_name')['Student ID'].count()/Students_per_school\n",
    "# %% score for reading each school \n",
    "Per_School_reading = school_data_complete[school_data_complete['reading_score'] >=70].groupby('school_name')['Student ID'].count()/Students_per_school \n",
    "\n",
    "# %% score over all for each school \n",
    "Per_School_Overall = school_data_complete[(school_data_complete['reading_score']>=70) & (school_data_complete['math_score']>= 70)].groupby('school_name')['Student ID'].count()/Students_per_school"
   ]
  },
  {
   "cell_type": "code",
   "execution_count": 93,
   "metadata": {},
   "outputs": [
    {
     "output_type": "execute_result",
     "data": {
      "text/plain": [
       "                     School Type  Total Students  Per Student Budget  \\\n",
       "Bailey High School      District            4976               628.0   \n",
       "Cabrera High School      Charter            1858               582.0   \n",
       "Figueroa High School    District            2949               639.0   \n",
       "Ford High School        District            2739               644.0   \n",
       "Griffin High School      Charter            1468               625.0   \n",
       "\n",
       "                      Total School Budget  Average Math Score  \\\n",
       "Bailey High School                3124928           77.048432   \n",
       "Cabrera High School               1081356           83.061895   \n",
       "Figueroa High School              1884411           76.711767   \n",
       "Ford High School                  1763916           77.102592   \n",
       "Griffin High School                917500           83.351499   \n",
       "\n",
       "                      Average Reading Score  % Passing Math  \\\n",
       "Bailey High School                81.033963        0.666801   \n",
       "Cabrera High School               83.975780        0.941335   \n",
       "Figueroa High School              81.158020        0.659885   \n",
       "Ford High School                  80.746258        0.683096   \n",
       "Griffin High School               83.816757        0.933924   \n",
       "\n",
       "                      % Passing Reading  Overall Passing Rate  \n",
       "Bailey High School             0.819333              0.546423  \n",
       "Cabrera High School            0.970398              0.913348  \n",
       "Figueroa High School           0.807392              0.532045  \n",
       "Ford High School               0.792990              0.542899  \n",
       "Griffin High School            0.971390              0.905995  "
      ],
      "text/html": "<div>\n<style scoped>\n    .dataframe tbody tr th:only-of-type {\n        vertical-align: middle;\n    }\n\n    .dataframe tbody tr th {\n        vertical-align: top;\n    }\n\n    .dataframe thead th {\n        text-align: right;\n    }\n</style>\n<table border=\"1\" class=\"dataframe\">\n  <thead>\n    <tr style=\"text-align: right;\">\n      <th></th>\n      <th>School Type</th>\n      <th>Total Students</th>\n      <th>Per Student Budget</th>\n      <th>Total School Budget</th>\n      <th>Average Math Score</th>\n      <th>Average Reading Score</th>\n      <th>% Passing Math</th>\n      <th>% Passing Reading</th>\n      <th>Overall Passing Rate</th>\n    </tr>\n  </thead>\n  <tbody>\n    <tr>\n      <th>Bailey High School</th>\n      <td>District</td>\n      <td>4976</td>\n      <td>628.0</td>\n      <td>3124928</td>\n      <td>77.048432</td>\n      <td>81.033963</td>\n      <td>0.666801</td>\n      <td>0.819333</td>\n      <td>0.546423</td>\n    </tr>\n    <tr>\n      <th>Cabrera High School</th>\n      <td>Charter</td>\n      <td>1858</td>\n      <td>582.0</td>\n      <td>1081356</td>\n      <td>83.061895</td>\n      <td>83.975780</td>\n      <td>0.941335</td>\n      <td>0.970398</td>\n      <td>0.913348</td>\n    </tr>\n    <tr>\n      <th>Figueroa High School</th>\n      <td>District</td>\n      <td>2949</td>\n      <td>639.0</td>\n      <td>1884411</td>\n      <td>76.711767</td>\n      <td>81.158020</td>\n      <td>0.659885</td>\n      <td>0.807392</td>\n      <td>0.532045</td>\n    </tr>\n    <tr>\n      <th>Ford High School</th>\n      <td>District</td>\n      <td>2739</td>\n      <td>644.0</td>\n      <td>1763916</td>\n      <td>77.102592</td>\n      <td>80.746258</td>\n      <td>0.683096</td>\n      <td>0.792990</td>\n      <td>0.542899</td>\n    </tr>\n    <tr>\n      <th>Griffin High School</th>\n      <td>Charter</td>\n      <td>1468</td>\n      <td>625.0</td>\n      <td>917500</td>\n      <td>83.351499</td>\n      <td>83.816757</td>\n      <td>0.933924</td>\n      <td>0.971390</td>\n      <td>0.905995</td>\n    </tr>\n  </tbody>\n</table>\n</div>"
     },
     "metadata": {},
     "execution_count": 93
    }
   ],
   "source": [
    "#Create a dataframe to hold the above results School_summary_unformated \n",
    "School_summary_unformated = pd.DataFrame({\n",
    "    \"School Type\": Types_schools,\n",
    "    \"Total Students\": Students_per_school,\n",
    "    \"Per Student Budget\": Per_student_budget,\n",
    "    \"Total School Budget\": Each_school_budget ,\n",
    "    \"Average Math Score\": School_math_average,\n",
    "    \"Average Reading Score\": School_reading_average,\n",
    "    \"% Passing Math\": Per_School_math,\n",
    "    \"% Passing Reading\": Per_School_reading,\n",
    "    \"Overall Passing Rate\": Per_School_Overall\n",
    "})\n",
    "\n",
    "School_summary_unformated.head()"
   ]
  },
  {
   "cell_type": "code",
   "execution_count": 45,
   "metadata": {},
   "outputs": [
    {
     "output_type": "execute_result",
     "data": {
      "text/plain": [
       "<pandas.io.formats.style.Styler at 0x17c3f5267f0>"
      ],
      "text/html": "<style  type=\"text/css\" >\n</style><table id=\"T_d6efd9ef_e2f3_11eb_873d_ccf9e49b12c9\" ><thead>    <tr>        <th class=\"blank level0\" ></th>        <th class=\"col_heading level0 col0\" >School Type</th>        <th class=\"col_heading level0 col1\" >Total Students</th>        <th class=\"col_heading level0 col2\" >Total School Budget</th>        <th class=\"col_heading level0 col3\" >Per Student Budget</th>        <th class=\"col_heading level0 col4\" >Average Math Score</th>        <th class=\"col_heading level0 col5\" >Average Reading Score</th>        <th class=\"col_heading level0 col6\" >% Passing Math</th>        <th class=\"col_heading level0 col7\" >% Passing Reading</th>        <th class=\"col_heading level0 col8\" >Overall Passing Rate</th>    </tr></thead><tbody>\n                <tr>\n                        <th id=\"T_d6efd9ef_e2f3_11eb_873d_ccf9e49b12c9level0_row0\" class=\"row_heading level0 row0\" >Bailey High School</th>\n                        <td id=\"T_d6efd9ef_e2f3_11eb_873d_ccf9e49b12c9row0_col0\" class=\"data row0 col0\" >District</td>\n                        <td id=\"T_d6efd9ef_e2f3_11eb_873d_ccf9e49b12c9row0_col1\" class=\"data row0 col1\" >4976.0</td>\n                        <td id=\"T_d6efd9ef_e2f3_11eb_873d_ccf9e49b12c9row0_col2\" class=\"data row0 col2\" >$3124928.00</td>\n                        <td id=\"T_d6efd9ef_e2f3_11eb_873d_ccf9e49b12c9row0_col3\" class=\"data row0 col3\" >$628.00</td>\n                        <td id=\"T_d6efd9ef_e2f3_11eb_873d_ccf9e49b12c9row0_col4\" class=\"data row0 col4\" >77.0</td>\n                        <td id=\"T_d6efd9ef_e2f3_11eb_873d_ccf9e49b12c9row0_col5\" class=\"data row0 col5\" >81.0</td>\n                        <td id=\"T_d6efd9ef_e2f3_11eb_873d_ccf9e49b12c9row0_col6\" class=\"data row0 col6\" >66.7%</td>\n                        <td id=\"T_d6efd9ef_e2f3_11eb_873d_ccf9e49b12c9row0_col7\" class=\"data row0 col7\" >81.9%</td>\n                        <td id=\"T_d6efd9ef_e2f3_11eb_873d_ccf9e49b12c9row0_col8\" class=\"data row0 col8\" >54.6%</td>\n            </tr>\n            <tr>\n                        <th id=\"T_d6efd9ef_e2f3_11eb_873d_ccf9e49b12c9level0_row1\" class=\"row_heading level0 row1\" >Cabrera High School</th>\n                        <td id=\"T_d6efd9ef_e2f3_11eb_873d_ccf9e49b12c9row1_col0\" class=\"data row1 col0\" >Charter</td>\n                        <td id=\"T_d6efd9ef_e2f3_11eb_873d_ccf9e49b12c9row1_col1\" class=\"data row1 col1\" >1858.0</td>\n                        <td id=\"T_d6efd9ef_e2f3_11eb_873d_ccf9e49b12c9row1_col2\" class=\"data row1 col2\" >$1081356.00</td>\n                        <td id=\"T_d6efd9ef_e2f3_11eb_873d_ccf9e49b12c9row1_col3\" class=\"data row1 col3\" >$582.00</td>\n                        <td id=\"T_d6efd9ef_e2f3_11eb_873d_ccf9e49b12c9row1_col4\" class=\"data row1 col4\" >83.1</td>\n                        <td id=\"T_d6efd9ef_e2f3_11eb_873d_ccf9e49b12c9row1_col5\" class=\"data row1 col5\" >84.0</td>\n                        <td id=\"T_d6efd9ef_e2f3_11eb_873d_ccf9e49b12c9row1_col6\" class=\"data row1 col6\" >94.1%</td>\n                        <td id=\"T_d6efd9ef_e2f3_11eb_873d_ccf9e49b12c9row1_col7\" class=\"data row1 col7\" >97.0%</td>\n                        <td id=\"T_d6efd9ef_e2f3_11eb_873d_ccf9e49b12c9row1_col8\" class=\"data row1 col8\" >91.3%</td>\n            </tr>\n            <tr>\n                        <th id=\"T_d6efd9ef_e2f3_11eb_873d_ccf9e49b12c9level0_row2\" class=\"row_heading level0 row2\" >Figueroa High School</th>\n                        <td id=\"T_d6efd9ef_e2f3_11eb_873d_ccf9e49b12c9row2_col0\" class=\"data row2 col0\" >District</td>\n                        <td id=\"T_d6efd9ef_e2f3_11eb_873d_ccf9e49b12c9row2_col1\" class=\"data row2 col1\" >2949.0</td>\n                        <td id=\"T_d6efd9ef_e2f3_11eb_873d_ccf9e49b12c9row2_col2\" class=\"data row2 col2\" >$1884411.00</td>\n                        <td id=\"T_d6efd9ef_e2f3_11eb_873d_ccf9e49b12c9row2_col3\" class=\"data row2 col3\" >$639.00</td>\n                        <td id=\"T_d6efd9ef_e2f3_11eb_873d_ccf9e49b12c9row2_col4\" class=\"data row2 col4\" >76.7</td>\n                        <td id=\"T_d6efd9ef_e2f3_11eb_873d_ccf9e49b12c9row2_col5\" class=\"data row2 col5\" >81.2</td>\n                        <td id=\"T_d6efd9ef_e2f3_11eb_873d_ccf9e49b12c9row2_col6\" class=\"data row2 col6\" >66.0%</td>\n                        <td id=\"T_d6efd9ef_e2f3_11eb_873d_ccf9e49b12c9row2_col7\" class=\"data row2 col7\" >80.7%</td>\n                        <td id=\"T_d6efd9ef_e2f3_11eb_873d_ccf9e49b12c9row2_col8\" class=\"data row2 col8\" >53.2%</td>\n            </tr>\n            <tr>\n                        <th id=\"T_d6efd9ef_e2f3_11eb_873d_ccf9e49b12c9level0_row3\" class=\"row_heading level0 row3\" >Ford High School</th>\n                        <td id=\"T_d6efd9ef_e2f3_11eb_873d_ccf9e49b12c9row3_col0\" class=\"data row3 col0\" >District</td>\n                        <td id=\"T_d6efd9ef_e2f3_11eb_873d_ccf9e49b12c9row3_col1\" class=\"data row3 col1\" >2739.0</td>\n                        <td id=\"T_d6efd9ef_e2f3_11eb_873d_ccf9e49b12c9row3_col2\" class=\"data row3 col2\" >$1763916.00</td>\n                        <td id=\"T_d6efd9ef_e2f3_11eb_873d_ccf9e49b12c9row3_col3\" class=\"data row3 col3\" >$644.00</td>\n                        <td id=\"T_d6efd9ef_e2f3_11eb_873d_ccf9e49b12c9row3_col4\" class=\"data row3 col4\" >77.1</td>\n                        <td id=\"T_d6efd9ef_e2f3_11eb_873d_ccf9e49b12c9row3_col5\" class=\"data row3 col5\" >80.7</td>\n                        <td id=\"T_d6efd9ef_e2f3_11eb_873d_ccf9e49b12c9row3_col6\" class=\"data row3 col6\" >68.3%</td>\n                        <td id=\"T_d6efd9ef_e2f3_11eb_873d_ccf9e49b12c9row3_col7\" class=\"data row3 col7\" >79.3%</td>\n                        <td id=\"T_d6efd9ef_e2f3_11eb_873d_ccf9e49b12c9row3_col8\" class=\"data row3 col8\" >54.3%</td>\n            </tr>\n            <tr>\n                        <th id=\"T_d6efd9ef_e2f3_11eb_873d_ccf9e49b12c9level0_row4\" class=\"row_heading level0 row4\" >Griffin High School</th>\n                        <td id=\"T_d6efd9ef_e2f3_11eb_873d_ccf9e49b12c9row4_col0\" class=\"data row4 col0\" >Charter</td>\n                        <td id=\"T_d6efd9ef_e2f3_11eb_873d_ccf9e49b12c9row4_col1\" class=\"data row4 col1\" >1468.0</td>\n                        <td id=\"T_d6efd9ef_e2f3_11eb_873d_ccf9e49b12c9row4_col2\" class=\"data row4 col2\" >$917500.00</td>\n                        <td id=\"T_d6efd9ef_e2f3_11eb_873d_ccf9e49b12c9row4_col3\" class=\"data row4 col3\" >$625.00</td>\n                        <td id=\"T_d6efd9ef_e2f3_11eb_873d_ccf9e49b12c9row4_col4\" class=\"data row4 col4\" >83.4</td>\n                        <td id=\"T_d6efd9ef_e2f3_11eb_873d_ccf9e49b12c9row4_col5\" class=\"data row4 col5\" >83.8</td>\n                        <td id=\"T_d6efd9ef_e2f3_11eb_873d_ccf9e49b12c9row4_col6\" class=\"data row4 col6\" >93.4%</td>\n                        <td id=\"T_d6efd9ef_e2f3_11eb_873d_ccf9e49b12c9row4_col7\" class=\"data row4 col7\" >97.1%</td>\n                        <td id=\"T_d6efd9ef_e2f3_11eb_873d_ccf9e49b12c9row4_col8\" class=\"data row4 col8\" >90.6%</td>\n            </tr>\n            <tr>\n                        <th id=\"T_d6efd9ef_e2f3_11eb_873d_ccf9e49b12c9level0_row5\" class=\"row_heading level0 row5\" >Hernandez High School</th>\n                        <td id=\"T_d6efd9ef_e2f3_11eb_873d_ccf9e49b12c9row5_col0\" class=\"data row5 col0\" >District</td>\n                        <td id=\"T_d6efd9ef_e2f3_11eb_873d_ccf9e49b12c9row5_col1\" class=\"data row5 col1\" >4635.0</td>\n                        <td id=\"T_d6efd9ef_e2f3_11eb_873d_ccf9e49b12c9row5_col2\" class=\"data row5 col2\" >$3022020.00</td>\n                        <td id=\"T_d6efd9ef_e2f3_11eb_873d_ccf9e49b12c9row5_col3\" class=\"data row5 col3\" >$652.00</td>\n                        <td id=\"T_d6efd9ef_e2f3_11eb_873d_ccf9e49b12c9row5_col4\" class=\"data row5 col4\" >77.3</td>\n                        <td id=\"T_d6efd9ef_e2f3_11eb_873d_ccf9e49b12c9row5_col5\" class=\"data row5 col5\" >80.9</td>\n                        <td id=\"T_d6efd9ef_e2f3_11eb_873d_ccf9e49b12c9row5_col6\" class=\"data row5 col6\" >66.8%</td>\n                        <td id=\"T_d6efd9ef_e2f3_11eb_873d_ccf9e49b12c9row5_col7\" class=\"data row5 col7\" >80.9%</td>\n                        <td id=\"T_d6efd9ef_e2f3_11eb_873d_ccf9e49b12c9row5_col8\" class=\"data row5 col8\" >53.5%</td>\n            </tr>\n            <tr>\n                        <th id=\"T_d6efd9ef_e2f3_11eb_873d_ccf9e49b12c9level0_row6\" class=\"row_heading level0 row6\" >Holden High School</th>\n                        <td id=\"T_d6efd9ef_e2f3_11eb_873d_ccf9e49b12c9row6_col0\" class=\"data row6 col0\" >Charter</td>\n                        <td id=\"T_d6efd9ef_e2f3_11eb_873d_ccf9e49b12c9row6_col1\" class=\"data row6 col1\" >427.0</td>\n                        <td id=\"T_d6efd9ef_e2f3_11eb_873d_ccf9e49b12c9row6_col2\" class=\"data row6 col2\" >$248087.00</td>\n                        <td id=\"T_d6efd9ef_e2f3_11eb_873d_ccf9e49b12c9row6_col3\" class=\"data row6 col3\" >$581.00</td>\n                        <td id=\"T_d6efd9ef_e2f3_11eb_873d_ccf9e49b12c9row6_col4\" class=\"data row6 col4\" >83.8</td>\n                        <td id=\"T_d6efd9ef_e2f3_11eb_873d_ccf9e49b12c9row6_col5\" class=\"data row6 col5\" >83.8</td>\n                        <td id=\"T_d6efd9ef_e2f3_11eb_873d_ccf9e49b12c9row6_col6\" class=\"data row6 col6\" >92.5%</td>\n                        <td id=\"T_d6efd9ef_e2f3_11eb_873d_ccf9e49b12c9row6_col7\" class=\"data row6 col7\" >96.3%</td>\n                        <td id=\"T_d6efd9ef_e2f3_11eb_873d_ccf9e49b12c9row6_col8\" class=\"data row6 col8\" >89.2%</td>\n            </tr>\n            <tr>\n                        <th id=\"T_d6efd9ef_e2f3_11eb_873d_ccf9e49b12c9level0_row7\" class=\"row_heading level0 row7\" >Huang High School</th>\n                        <td id=\"T_d6efd9ef_e2f3_11eb_873d_ccf9e49b12c9row7_col0\" class=\"data row7 col0\" >District</td>\n                        <td id=\"T_d6efd9ef_e2f3_11eb_873d_ccf9e49b12c9row7_col1\" class=\"data row7 col1\" >2917.0</td>\n                        <td id=\"T_d6efd9ef_e2f3_11eb_873d_ccf9e49b12c9row7_col2\" class=\"data row7 col2\" >$1910635.00</td>\n                        <td id=\"T_d6efd9ef_e2f3_11eb_873d_ccf9e49b12c9row7_col3\" class=\"data row7 col3\" >$655.00</td>\n                        <td id=\"T_d6efd9ef_e2f3_11eb_873d_ccf9e49b12c9row7_col4\" class=\"data row7 col4\" >76.6</td>\n                        <td id=\"T_d6efd9ef_e2f3_11eb_873d_ccf9e49b12c9row7_col5\" class=\"data row7 col5\" >81.2</td>\n                        <td id=\"T_d6efd9ef_e2f3_11eb_873d_ccf9e49b12c9row7_col6\" class=\"data row7 col6\" >65.7%</td>\n                        <td id=\"T_d6efd9ef_e2f3_11eb_873d_ccf9e49b12c9row7_col7\" class=\"data row7 col7\" >81.3%</td>\n                        <td id=\"T_d6efd9ef_e2f3_11eb_873d_ccf9e49b12c9row7_col8\" class=\"data row7 col8\" >53.5%</td>\n            </tr>\n            <tr>\n                        <th id=\"T_d6efd9ef_e2f3_11eb_873d_ccf9e49b12c9level0_row8\" class=\"row_heading level0 row8\" >Johnson High School</th>\n                        <td id=\"T_d6efd9ef_e2f3_11eb_873d_ccf9e49b12c9row8_col0\" class=\"data row8 col0\" >District</td>\n                        <td id=\"T_d6efd9ef_e2f3_11eb_873d_ccf9e49b12c9row8_col1\" class=\"data row8 col1\" >4761.0</td>\n                        <td id=\"T_d6efd9ef_e2f3_11eb_873d_ccf9e49b12c9row8_col2\" class=\"data row8 col2\" >$3094650.00</td>\n                        <td id=\"T_d6efd9ef_e2f3_11eb_873d_ccf9e49b12c9row8_col3\" class=\"data row8 col3\" >$650.00</td>\n                        <td id=\"T_d6efd9ef_e2f3_11eb_873d_ccf9e49b12c9row8_col4\" class=\"data row8 col4\" >77.1</td>\n                        <td id=\"T_d6efd9ef_e2f3_11eb_873d_ccf9e49b12c9row8_col5\" class=\"data row8 col5\" >81.0</td>\n                        <td id=\"T_d6efd9ef_e2f3_11eb_873d_ccf9e49b12c9row8_col6\" class=\"data row8 col6\" >66.1%</td>\n                        <td id=\"T_d6efd9ef_e2f3_11eb_873d_ccf9e49b12c9row8_col7\" class=\"data row8 col7\" >81.2%</td>\n                        <td id=\"T_d6efd9ef_e2f3_11eb_873d_ccf9e49b12c9row8_col8\" class=\"data row8 col8\" >53.5%</td>\n            </tr>\n            <tr>\n                        <th id=\"T_d6efd9ef_e2f3_11eb_873d_ccf9e49b12c9level0_row9\" class=\"row_heading level0 row9\" >Pena High School</th>\n                        <td id=\"T_d6efd9ef_e2f3_11eb_873d_ccf9e49b12c9row9_col0\" class=\"data row9 col0\" >Charter</td>\n                        <td id=\"T_d6efd9ef_e2f3_11eb_873d_ccf9e49b12c9row9_col1\" class=\"data row9 col1\" >962.0</td>\n                        <td id=\"T_d6efd9ef_e2f3_11eb_873d_ccf9e49b12c9row9_col2\" class=\"data row9 col2\" >$585858.00</td>\n                        <td id=\"T_d6efd9ef_e2f3_11eb_873d_ccf9e49b12c9row9_col3\" class=\"data row9 col3\" >$609.00</td>\n                        <td id=\"T_d6efd9ef_e2f3_11eb_873d_ccf9e49b12c9row9_col4\" class=\"data row9 col4\" >83.8</td>\n                        <td id=\"T_d6efd9ef_e2f3_11eb_873d_ccf9e49b12c9row9_col5\" class=\"data row9 col5\" >84.0</td>\n                        <td id=\"T_d6efd9ef_e2f3_11eb_873d_ccf9e49b12c9row9_col6\" class=\"data row9 col6\" >94.6%</td>\n                        <td id=\"T_d6efd9ef_e2f3_11eb_873d_ccf9e49b12c9row9_col7\" class=\"data row9 col7\" >95.9%</td>\n                        <td id=\"T_d6efd9ef_e2f3_11eb_873d_ccf9e49b12c9row9_col8\" class=\"data row9 col8\" >90.5%</td>\n            </tr>\n            <tr>\n                        <th id=\"T_d6efd9ef_e2f3_11eb_873d_ccf9e49b12c9level0_row10\" class=\"row_heading level0 row10\" >Rodriguez High School</th>\n                        <td id=\"T_d6efd9ef_e2f3_11eb_873d_ccf9e49b12c9row10_col0\" class=\"data row10 col0\" >District</td>\n                        <td id=\"T_d6efd9ef_e2f3_11eb_873d_ccf9e49b12c9row10_col1\" class=\"data row10 col1\" >3999.0</td>\n                        <td id=\"T_d6efd9ef_e2f3_11eb_873d_ccf9e49b12c9row10_col2\" class=\"data row10 col2\" >$2547363.00</td>\n                        <td id=\"T_d6efd9ef_e2f3_11eb_873d_ccf9e49b12c9row10_col3\" class=\"data row10 col3\" >$637.00</td>\n                        <td id=\"T_d6efd9ef_e2f3_11eb_873d_ccf9e49b12c9row10_col4\" class=\"data row10 col4\" >76.8</td>\n                        <td id=\"T_d6efd9ef_e2f3_11eb_873d_ccf9e49b12c9row10_col5\" class=\"data row10 col5\" >80.7</td>\n                        <td id=\"T_d6efd9ef_e2f3_11eb_873d_ccf9e49b12c9row10_col6\" class=\"data row10 col6\" >66.4%</td>\n                        <td id=\"T_d6efd9ef_e2f3_11eb_873d_ccf9e49b12c9row10_col7\" class=\"data row10 col7\" >80.2%</td>\n                        <td id=\"T_d6efd9ef_e2f3_11eb_873d_ccf9e49b12c9row10_col8\" class=\"data row10 col8\" >53.0%</td>\n            </tr>\n            <tr>\n                        <th id=\"T_d6efd9ef_e2f3_11eb_873d_ccf9e49b12c9level0_row11\" class=\"row_heading level0 row11\" >Shelton High School</th>\n                        <td id=\"T_d6efd9ef_e2f3_11eb_873d_ccf9e49b12c9row11_col0\" class=\"data row11 col0\" >Charter</td>\n                        <td id=\"T_d6efd9ef_e2f3_11eb_873d_ccf9e49b12c9row11_col1\" class=\"data row11 col1\" >1761.0</td>\n                        <td id=\"T_d6efd9ef_e2f3_11eb_873d_ccf9e49b12c9row11_col2\" class=\"data row11 col2\" >$1056600.00</td>\n                        <td id=\"T_d6efd9ef_e2f3_11eb_873d_ccf9e49b12c9row11_col3\" class=\"data row11 col3\" >$600.00</td>\n                        <td id=\"T_d6efd9ef_e2f3_11eb_873d_ccf9e49b12c9row11_col4\" class=\"data row11 col4\" >83.4</td>\n                        <td id=\"T_d6efd9ef_e2f3_11eb_873d_ccf9e49b12c9row11_col5\" class=\"data row11 col5\" >83.7</td>\n                        <td id=\"T_d6efd9ef_e2f3_11eb_873d_ccf9e49b12c9row11_col6\" class=\"data row11 col6\" >93.9%</td>\n                        <td id=\"T_d6efd9ef_e2f3_11eb_873d_ccf9e49b12c9row11_col7\" class=\"data row11 col7\" >95.9%</td>\n                        <td id=\"T_d6efd9ef_e2f3_11eb_873d_ccf9e49b12c9row11_col8\" class=\"data row11 col8\" >89.9%</td>\n            </tr>\n            <tr>\n                        <th id=\"T_d6efd9ef_e2f3_11eb_873d_ccf9e49b12c9level0_row12\" class=\"row_heading level0 row12\" >Thomas High School</th>\n                        <td id=\"T_d6efd9ef_e2f3_11eb_873d_ccf9e49b12c9row12_col0\" class=\"data row12 col0\" >Charter</td>\n                        <td id=\"T_d6efd9ef_e2f3_11eb_873d_ccf9e49b12c9row12_col1\" class=\"data row12 col1\" >1635.0</td>\n                        <td id=\"T_d6efd9ef_e2f3_11eb_873d_ccf9e49b12c9row12_col2\" class=\"data row12 col2\" >$1043130.00</td>\n                        <td id=\"T_d6efd9ef_e2f3_11eb_873d_ccf9e49b12c9row12_col3\" class=\"data row12 col3\" >$638.00</td>\n                        <td id=\"T_d6efd9ef_e2f3_11eb_873d_ccf9e49b12c9row12_col4\" class=\"data row12 col4\" >83.4</td>\n                        <td id=\"T_d6efd9ef_e2f3_11eb_873d_ccf9e49b12c9row12_col5\" class=\"data row12 col5\" >83.8</td>\n                        <td id=\"T_d6efd9ef_e2f3_11eb_873d_ccf9e49b12c9row12_col6\" class=\"data row12 col6\" >93.3%</td>\n                        <td id=\"T_d6efd9ef_e2f3_11eb_873d_ccf9e49b12c9row12_col7\" class=\"data row12 col7\" >97.3%</td>\n                        <td id=\"T_d6efd9ef_e2f3_11eb_873d_ccf9e49b12c9row12_col8\" class=\"data row12 col8\" >90.9%</td>\n            </tr>\n            <tr>\n                        <th id=\"T_d6efd9ef_e2f3_11eb_873d_ccf9e49b12c9level0_row13\" class=\"row_heading level0 row13\" >Wilson High School</th>\n                        <td id=\"T_d6efd9ef_e2f3_11eb_873d_ccf9e49b12c9row13_col0\" class=\"data row13 col0\" >Charter</td>\n                        <td id=\"T_d6efd9ef_e2f3_11eb_873d_ccf9e49b12c9row13_col1\" class=\"data row13 col1\" >2283.0</td>\n                        <td id=\"T_d6efd9ef_e2f3_11eb_873d_ccf9e49b12c9row13_col2\" class=\"data row13 col2\" >$1319574.00</td>\n                        <td id=\"T_d6efd9ef_e2f3_11eb_873d_ccf9e49b12c9row13_col3\" class=\"data row13 col3\" >$578.00</td>\n                        <td id=\"T_d6efd9ef_e2f3_11eb_873d_ccf9e49b12c9row13_col4\" class=\"data row13 col4\" >83.3</td>\n                        <td id=\"T_d6efd9ef_e2f3_11eb_873d_ccf9e49b12c9row13_col5\" class=\"data row13 col5\" >84.0</td>\n                        <td id=\"T_d6efd9ef_e2f3_11eb_873d_ccf9e49b12c9row13_col6\" class=\"data row13 col6\" >93.9%</td>\n                        <td id=\"T_d6efd9ef_e2f3_11eb_873d_ccf9e49b12c9row13_col7\" class=\"data row13 col7\" >96.5%</td>\n                        <td id=\"T_d6efd9ef_e2f3_11eb_873d_ccf9e49b12c9row13_col8\" class=\"data row13 col8\" >90.6%</td>\n            </tr>\n            <tr>\n                        <th id=\"T_d6efd9ef_e2f3_11eb_873d_ccf9e49b12c9level0_row14\" class=\"row_heading level0 row14\" >Wright High School</th>\n                        <td id=\"T_d6efd9ef_e2f3_11eb_873d_ccf9e49b12c9row14_col0\" class=\"data row14 col0\" >Charter</td>\n                        <td id=\"T_d6efd9ef_e2f3_11eb_873d_ccf9e49b12c9row14_col1\" class=\"data row14 col1\" >1800.0</td>\n                        <td id=\"T_d6efd9ef_e2f3_11eb_873d_ccf9e49b12c9row14_col2\" class=\"data row14 col2\" >$1049400.00</td>\n                        <td id=\"T_d6efd9ef_e2f3_11eb_873d_ccf9e49b12c9row14_col3\" class=\"data row14 col3\" >$583.00</td>\n                        <td id=\"T_d6efd9ef_e2f3_11eb_873d_ccf9e49b12c9row14_col4\" class=\"data row14 col4\" >83.7</td>\n                        <td id=\"T_d6efd9ef_e2f3_11eb_873d_ccf9e49b12c9row14_col5\" class=\"data row14 col5\" >84.0</td>\n                        <td id=\"T_d6efd9ef_e2f3_11eb_873d_ccf9e49b12c9row14_col6\" class=\"data row14 col6\" >93.3%</td>\n                        <td id=\"T_d6efd9ef_e2f3_11eb_873d_ccf9e49b12c9row14_col7\" class=\"data row14 col7\" >96.6%</td>\n                        <td id=\"T_d6efd9ef_e2f3_11eb_873d_ccf9e49b12c9row14_col8\" class=\"data row14 col8\" >90.3%</td>\n            </tr>\n    </tbody></table>"
     },
     "metadata": {},
     "execution_count": 45
    }
   ],
   "source": [
    "#Create dataframe called School_summary_formated to clean formated the data from above \n",
    "\n",
    "School_summary_formated = School_summary_unformated[[\"School Type\", \n",
    "                          \"Total Students\", \n",
    "                          \"Total School Budget\", \n",
    "                          \"Per Student Budget\", \n",
    "                          \"Average Math Score\", \n",
    "                          \"Average Reading Score\",\n",
    "                          \"% Passing Math\",\n",
    "                          \"% Passing Reading\",\n",
    "                          \"Overall Passing Rate\"]]\n",
    "\n",
    "School_summary_formated.style.format({\"Total Students\": \"{:.f}\", \n",
    "    \"Total School Budget\": \"${:.2f}\", \n",
    "    \"Per Student Budget\": \"${:.2f}\", \n",
    "    \"Average Math Score\": \"{:.1f}\", \n",
    "    \"Average Reading Score\": \"{:.1f}\", \n",
    "    \"% Passing Math\": \"{:.1%}\", \n",
    "    \"% Passing Reading\": \"{:.1%}\", \n",
    "    \"Overall Passing Rate\": \"{:.1%}\"})"
   ]
  },
  {
   "cell_type": "code",
   "execution_count": 57,
   "metadata": {},
   "outputs": [
    {
     "output_type": "execute_result",
     "data": {
      "text/plain": [
       "<pandas.io.formats.style.Styler at 0x17c3fac9eb0>"
      ],
      "text/html": "<style  type=\"text/css\" >\n</style><table id=\"T_9e07a01a_e2f4_11eb_8f8d_ccf9e49b12c9\" ><thead>    <tr>        <th class=\"blank level0\" ></th>        <th class=\"col_heading level0 col0\" >School Type</th>        <th class=\"col_heading level0 col1\" >Total Students</th>        <th class=\"col_heading level0 col2\" >Total School Budget</th>        <th class=\"col_heading level0 col3\" >Per Student Budget</th>        <th class=\"col_heading level0 col4\" >Average Math Score</th>        <th class=\"col_heading level0 col5\" >Average Reading Score</th>        <th class=\"col_heading level0 col6\" >% Passing Math</th>        <th class=\"col_heading level0 col7\" >% Passing Reading</th>        <th class=\"col_heading level0 col8\" >Overall Passing Rate</th>    </tr></thead><tbody>\n                <tr>\n                        <th id=\"T_9e07a01a_e2f4_11eb_8f8d_ccf9e49b12c9level0_row0\" class=\"row_heading level0 row0\" >Cabrera High School</th>\n                        <td id=\"T_9e07a01a_e2f4_11eb_8f8d_ccf9e49b12c9row0_col0\" class=\"data row0 col0\" >Charter</td>\n                        <td id=\"T_9e07a01a_e2f4_11eb_8f8d_ccf9e49b12c9row0_col1\" class=\"data row0 col1\" >1,858</td>\n                        <td id=\"T_9e07a01a_e2f4_11eb_8f8d_ccf9e49b12c9row0_col2\" class=\"data row0 col2\" >$1,081,356</td>\n                        <td id=\"T_9e07a01a_e2f4_11eb_8f8d_ccf9e49b12c9row0_col3\" class=\"data row0 col3\" >$582</td>\n                        <td id=\"T_9e07a01a_e2f4_11eb_8f8d_ccf9e49b12c9row0_col4\" class=\"data row0 col4\" >83.061895</td>\n                        <td id=\"T_9e07a01a_e2f4_11eb_8f8d_ccf9e49b12c9row0_col5\" class=\"data row0 col5\" >83.975780</td>\n                        <td id=\"T_9e07a01a_e2f4_11eb_8f8d_ccf9e49b12c9row0_col6\" class=\"data row0 col6\" >94.1%</td>\n                        <td id=\"T_9e07a01a_e2f4_11eb_8f8d_ccf9e49b12c9row0_col7\" class=\"data row0 col7\" >97.0%</td>\n                        <td id=\"T_9e07a01a_e2f4_11eb_8f8d_ccf9e49b12c9row0_col8\" class=\"data row0 col8\" >91.3%</td>\n            </tr>\n            <tr>\n                        <th id=\"T_9e07a01a_e2f4_11eb_8f8d_ccf9e49b12c9level0_row1\" class=\"row_heading level0 row1\" >Thomas High School</th>\n                        <td id=\"T_9e07a01a_e2f4_11eb_8f8d_ccf9e49b12c9row1_col0\" class=\"data row1 col0\" >Charter</td>\n                        <td id=\"T_9e07a01a_e2f4_11eb_8f8d_ccf9e49b12c9row1_col1\" class=\"data row1 col1\" >1,635</td>\n                        <td id=\"T_9e07a01a_e2f4_11eb_8f8d_ccf9e49b12c9row1_col2\" class=\"data row1 col2\" >$1,043,130</td>\n                        <td id=\"T_9e07a01a_e2f4_11eb_8f8d_ccf9e49b12c9row1_col3\" class=\"data row1 col3\" >$638</td>\n                        <td id=\"T_9e07a01a_e2f4_11eb_8f8d_ccf9e49b12c9row1_col4\" class=\"data row1 col4\" >83.418349</td>\n                        <td id=\"T_9e07a01a_e2f4_11eb_8f8d_ccf9e49b12c9row1_col5\" class=\"data row1 col5\" >83.848930</td>\n                        <td id=\"T_9e07a01a_e2f4_11eb_8f8d_ccf9e49b12c9row1_col6\" class=\"data row1 col6\" >93.3%</td>\n                        <td id=\"T_9e07a01a_e2f4_11eb_8f8d_ccf9e49b12c9row1_col7\" class=\"data row1 col7\" >97.3%</td>\n                        <td id=\"T_9e07a01a_e2f4_11eb_8f8d_ccf9e49b12c9row1_col8\" class=\"data row1 col8\" >90.9%</td>\n            </tr>\n            <tr>\n                        <th id=\"T_9e07a01a_e2f4_11eb_8f8d_ccf9e49b12c9level0_row2\" class=\"row_heading level0 row2\" >Griffin High School</th>\n                        <td id=\"T_9e07a01a_e2f4_11eb_8f8d_ccf9e49b12c9row2_col0\" class=\"data row2 col0\" >Charter</td>\n                        <td id=\"T_9e07a01a_e2f4_11eb_8f8d_ccf9e49b12c9row2_col1\" class=\"data row2 col1\" >1,468</td>\n                        <td id=\"T_9e07a01a_e2f4_11eb_8f8d_ccf9e49b12c9row2_col2\" class=\"data row2 col2\" >$917,500</td>\n                        <td id=\"T_9e07a01a_e2f4_11eb_8f8d_ccf9e49b12c9row2_col3\" class=\"data row2 col3\" >$625</td>\n                        <td id=\"T_9e07a01a_e2f4_11eb_8f8d_ccf9e49b12c9row2_col4\" class=\"data row2 col4\" >83.351499</td>\n                        <td id=\"T_9e07a01a_e2f4_11eb_8f8d_ccf9e49b12c9row2_col5\" class=\"data row2 col5\" >83.816757</td>\n                        <td id=\"T_9e07a01a_e2f4_11eb_8f8d_ccf9e49b12c9row2_col6\" class=\"data row2 col6\" >93.4%</td>\n                        <td id=\"T_9e07a01a_e2f4_11eb_8f8d_ccf9e49b12c9row2_col7\" class=\"data row2 col7\" >97.1%</td>\n                        <td id=\"T_9e07a01a_e2f4_11eb_8f8d_ccf9e49b12c9row2_col8\" class=\"data row2 col8\" >90.6%</td>\n            </tr>\n            <tr>\n                        <th id=\"T_9e07a01a_e2f4_11eb_8f8d_ccf9e49b12c9level0_row3\" class=\"row_heading level0 row3\" >Wilson High School</th>\n                        <td id=\"T_9e07a01a_e2f4_11eb_8f8d_ccf9e49b12c9row3_col0\" class=\"data row3 col0\" >Charter</td>\n                        <td id=\"T_9e07a01a_e2f4_11eb_8f8d_ccf9e49b12c9row3_col1\" class=\"data row3 col1\" >2,283</td>\n                        <td id=\"T_9e07a01a_e2f4_11eb_8f8d_ccf9e49b12c9row3_col2\" class=\"data row3 col2\" >$1,319,574</td>\n                        <td id=\"T_9e07a01a_e2f4_11eb_8f8d_ccf9e49b12c9row3_col3\" class=\"data row3 col3\" >$578</td>\n                        <td id=\"T_9e07a01a_e2f4_11eb_8f8d_ccf9e49b12c9row3_col4\" class=\"data row3 col4\" >83.274201</td>\n                        <td id=\"T_9e07a01a_e2f4_11eb_8f8d_ccf9e49b12c9row3_col5\" class=\"data row3 col5\" >83.989488</td>\n                        <td id=\"T_9e07a01a_e2f4_11eb_8f8d_ccf9e49b12c9row3_col6\" class=\"data row3 col6\" >93.9%</td>\n                        <td id=\"T_9e07a01a_e2f4_11eb_8f8d_ccf9e49b12c9row3_col7\" class=\"data row3 col7\" >96.5%</td>\n                        <td id=\"T_9e07a01a_e2f4_11eb_8f8d_ccf9e49b12c9row3_col8\" class=\"data row3 col8\" >90.6%</td>\n            </tr>\n            <tr>\n                        <th id=\"T_9e07a01a_e2f4_11eb_8f8d_ccf9e49b12c9level0_row4\" class=\"row_heading level0 row4\" >Pena High School</th>\n                        <td id=\"T_9e07a01a_e2f4_11eb_8f8d_ccf9e49b12c9row4_col0\" class=\"data row4 col0\" >Charter</td>\n                        <td id=\"T_9e07a01a_e2f4_11eb_8f8d_ccf9e49b12c9row4_col1\" class=\"data row4 col1\" >962</td>\n                        <td id=\"T_9e07a01a_e2f4_11eb_8f8d_ccf9e49b12c9row4_col2\" class=\"data row4 col2\" >$585,858</td>\n                        <td id=\"T_9e07a01a_e2f4_11eb_8f8d_ccf9e49b12c9row4_col3\" class=\"data row4 col3\" >$609</td>\n                        <td id=\"T_9e07a01a_e2f4_11eb_8f8d_ccf9e49b12c9row4_col4\" class=\"data row4 col4\" >83.839917</td>\n                        <td id=\"T_9e07a01a_e2f4_11eb_8f8d_ccf9e49b12c9row4_col5\" class=\"data row4 col5\" >84.044699</td>\n                        <td id=\"T_9e07a01a_e2f4_11eb_8f8d_ccf9e49b12c9row4_col6\" class=\"data row4 col6\" >94.6%</td>\n                        <td id=\"T_9e07a01a_e2f4_11eb_8f8d_ccf9e49b12c9row4_col7\" class=\"data row4 col7\" >95.9%</td>\n                        <td id=\"T_9e07a01a_e2f4_11eb_8f8d_ccf9e49b12c9row4_col8\" class=\"data row4 col8\" >90.5%</td>\n            </tr>\n    </tbody></table>"
     },
     "metadata": {},
     "execution_count": 57
    }
   ],
   "source": [
    "#Top 5 Performing Schools (By % Overall Passing Rate)\n",
    "best_five_schools = School_summary_formated.sort_values(\"Overall Passing Rate\", ascending = False)\n",
    "best_five_schools.head().style.format({'Total Students': '{:,}',\n",
    "                           \"Total School Budget\": \"${:,}\", \n",
    "                           \"Per Student Budget\": \"${:.0f}\", \n",
    "                           \"% Passing Math\": \"{:.1%}\", \n",
    "                           \"% Passing Reading\": \"{:.1%}\", \n",
    "                           \"Overall Passing Rate\": \"{:.1%}\"})"
   ]
  },
  {
   "cell_type": "code",
   "execution_count": 56,
   "metadata": {},
   "outputs": [
    {
     "output_type": "execute_result",
     "data": {
      "text/plain": [
       "<pandas.io.formats.style.Styler at 0x17c3ef20a30>"
      ],
      "text/html": "<style  type=\"text/css\" >\n</style><table id=\"T_4d6e940b_e2f4_11eb_81cf_ccf9e49b12c9\" ><thead>    <tr>        <th class=\"blank level0\" ></th>        <th class=\"col_heading level0 col0\" >School Type</th>        <th class=\"col_heading level0 col1\" >Total Students</th>        <th class=\"col_heading level0 col2\" >Total School Budget</th>        <th class=\"col_heading level0 col3\" >Per Student Budget</th>        <th class=\"col_heading level0 col4\" >Average Math Score</th>        <th class=\"col_heading level0 col5\" >Average Reading Score</th>        <th class=\"col_heading level0 col6\" >% Passing Math</th>        <th class=\"col_heading level0 col7\" >% Passing Reading</th>        <th class=\"col_heading level0 col8\" >Overall Passing Rate</th>    </tr></thead><tbody>\n                <tr>\n                        <th id=\"T_4d6e940b_e2f4_11eb_81cf_ccf9e49b12c9level0_row0\" class=\"row_heading level0 row0\" >Rodriguez High School</th>\n                        <td id=\"T_4d6e940b_e2f4_11eb_81cf_ccf9e49b12c9row0_col0\" class=\"data row0 col0\" >District</td>\n                        <td id=\"T_4d6e940b_e2f4_11eb_81cf_ccf9e49b12c9row0_col1\" class=\"data row0 col1\" >3,999</td>\n                        <td id=\"T_4d6e940b_e2f4_11eb_81cf_ccf9e49b12c9row0_col2\" class=\"data row0 col2\" >$2,547,363</td>\n                        <td id=\"T_4d6e940b_e2f4_11eb_81cf_ccf9e49b12c9row0_col3\" class=\"data row0 col3\" >$637</td>\n                        <td id=\"T_4d6e940b_e2f4_11eb_81cf_ccf9e49b12c9row0_col4\" class=\"data row0 col4\" >76.842711</td>\n                        <td id=\"T_4d6e940b_e2f4_11eb_81cf_ccf9e49b12c9row0_col5\" class=\"data row0 col5\" >80.744686</td>\n                        <td id=\"T_4d6e940b_e2f4_11eb_81cf_ccf9e49b12c9row0_col6\" class=\"data row0 col6\" >66.4%</td>\n                        <td id=\"T_4d6e940b_e2f4_11eb_81cf_ccf9e49b12c9row0_col7\" class=\"data row0 col7\" >80.2%</td>\n                        <td id=\"T_4d6e940b_e2f4_11eb_81cf_ccf9e49b12c9row0_col8\" class=\"data row0 col8\" >53.0%</td>\n            </tr>\n            <tr>\n                        <th id=\"T_4d6e940b_e2f4_11eb_81cf_ccf9e49b12c9level0_row1\" class=\"row_heading level0 row1\" >Figueroa High School</th>\n                        <td id=\"T_4d6e940b_e2f4_11eb_81cf_ccf9e49b12c9row1_col0\" class=\"data row1 col0\" >District</td>\n                        <td id=\"T_4d6e940b_e2f4_11eb_81cf_ccf9e49b12c9row1_col1\" class=\"data row1 col1\" >2,949</td>\n                        <td id=\"T_4d6e940b_e2f4_11eb_81cf_ccf9e49b12c9row1_col2\" class=\"data row1 col2\" >$1,884,411</td>\n                        <td id=\"T_4d6e940b_e2f4_11eb_81cf_ccf9e49b12c9row1_col3\" class=\"data row1 col3\" >$639</td>\n                        <td id=\"T_4d6e940b_e2f4_11eb_81cf_ccf9e49b12c9row1_col4\" class=\"data row1 col4\" >76.711767</td>\n                        <td id=\"T_4d6e940b_e2f4_11eb_81cf_ccf9e49b12c9row1_col5\" class=\"data row1 col5\" >81.158020</td>\n                        <td id=\"T_4d6e940b_e2f4_11eb_81cf_ccf9e49b12c9row1_col6\" class=\"data row1 col6\" >66.0%</td>\n                        <td id=\"T_4d6e940b_e2f4_11eb_81cf_ccf9e49b12c9row1_col7\" class=\"data row1 col7\" >80.7%</td>\n                        <td id=\"T_4d6e940b_e2f4_11eb_81cf_ccf9e49b12c9row1_col8\" class=\"data row1 col8\" >53.2%</td>\n            </tr>\n            <tr>\n                        <th id=\"T_4d6e940b_e2f4_11eb_81cf_ccf9e49b12c9level0_row2\" class=\"row_heading level0 row2\" >Huang High School</th>\n                        <td id=\"T_4d6e940b_e2f4_11eb_81cf_ccf9e49b12c9row2_col0\" class=\"data row2 col0\" >District</td>\n                        <td id=\"T_4d6e940b_e2f4_11eb_81cf_ccf9e49b12c9row2_col1\" class=\"data row2 col1\" >2,917</td>\n                        <td id=\"T_4d6e940b_e2f4_11eb_81cf_ccf9e49b12c9row2_col2\" class=\"data row2 col2\" >$1,910,635</td>\n                        <td id=\"T_4d6e940b_e2f4_11eb_81cf_ccf9e49b12c9row2_col3\" class=\"data row2 col3\" >$655</td>\n                        <td id=\"T_4d6e940b_e2f4_11eb_81cf_ccf9e49b12c9row2_col4\" class=\"data row2 col4\" >76.629414</td>\n                        <td id=\"T_4d6e940b_e2f4_11eb_81cf_ccf9e49b12c9row2_col5\" class=\"data row2 col5\" >81.182722</td>\n                        <td id=\"T_4d6e940b_e2f4_11eb_81cf_ccf9e49b12c9row2_col6\" class=\"data row2 col6\" >65.7%</td>\n                        <td id=\"T_4d6e940b_e2f4_11eb_81cf_ccf9e49b12c9row2_col7\" class=\"data row2 col7\" >81.3%</td>\n                        <td id=\"T_4d6e940b_e2f4_11eb_81cf_ccf9e49b12c9row2_col8\" class=\"data row2 col8\" >53.5%</td>\n            </tr>\n            <tr>\n                        <th id=\"T_4d6e940b_e2f4_11eb_81cf_ccf9e49b12c9level0_row3\" class=\"row_heading level0 row3\" >Hernandez High School</th>\n                        <td id=\"T_4d6e940b_e2f4_11eb_81cf_ccf9e49b12c9row3_col0\" class=\"data row3 col0\" >District</td>\n                        <td id=\"T_4d6e940b_e2f4_11eb_81cf_ccf9e49b12c9row3_col1\" class=\"data row3 col1\" >4,635</td>\n                        <td id=\"T_4d6e940b_e2f4_11eb_81cf_ccf9e49b12c9row3_col2\" class=\"data row3 col2\" >$3,022,020</td>\n                        <td id=\"T_4d6e940b_e2f4_11eb_81cf_ccf9e49b12c9row3_col3\" class=\"data row3 col3\" >$652</td>\n                        <td id=\"T_4d6e940b_e2f4_11eb_81cf_ccf9e49b12c9row3_col4\" class=\"data row3 col4\" >77.289752</td>\n                        <td id=\"T_4d6e940b_e2f4_11eb_81cf_ccf9e49b12c9row3_col5\" class=\"data row3 col5\" >80.934412</td>\n                        <td id=\"T_4d6e940b_e2f4_11eb_81cf_ccf9e49b12c9row3_col6\" class=\"data row3 col6\" >66.8%</td>\n                        <td id=\"T_4d6e940b_e2f4_11eb_81cf_ccf9e49b12c9row3_col7\" class=\"data row3 col7\" >80.9%</td>\n                        <td id=\"T_4d6e940b_e2f4_11eb_81cf_ccf9e49b12c9row3_col8\" class=\"data row3 col8\" >53.5%</td>\n            </tr>\n            <tr>\n                        <th id=\"T_4d6e940b_e2f4_11eb_81cf_ccf9e49b12c9level0_row4\" class=\"row_heading level0 row4\" >Johnson High School</th>\n                        <td id=\"T_4d6e940b_e2f4_11eb_81cf_ccf9e49b12c9row4_col0\" class=\"data row4 col0\" >District</td>\n                        <td id=\"T_4d6e940b_e2f4_11eb_81cf_ccf9e49b12c9row4_col1\" class=\"data row4 col1\" >4,761</td>\n                        <td id=\"T_4d6e940b_e2f4_11eb_81cf_ccf9e49b12c9row4_col2\" class=\"data row4 col2\" >$3,094,650</td>\n                        <td id=\"T_4d6e940b_e2f4_11eb_81cf_ccf9e49b12c9row4_col3\" class=\"data row4 col3\" >$650</td>\n                        <td id=\"T_4d6e940b_e2f4_11eb_81cf_ccf9e49b12c9row4_col4\" class=\"data row4 col4\" >77.072464</td>\n                        <td id=\"T_4d6e940b_e2f4_11eb_81cf_ccf9e49b12c9row4_col5\" class=\"data row4 col5\" >80.966394</td>\n                        <td id=\"T_4d6e940b_e2f4_11eb_81cf_ccf9e49b12c9row4_col6\" class=\"data row4 col6\" >66.1%</td>\n                        <td id=\"T_4d6e940b_e2f4_11eb_81cf_ccf9e49b12c9row4_col7\" class=\"data row4 col7\" >81.2%</td>\n                        <td id=\"T_4d6e940b_e2f4_11eb_81cf_ccf9e49b12c9row4_col8\" class=\"data row4 col8\" >53.5%</td>\n            </tr>\n    </tbody></table>"
     },
     "metadata": {},
     "execution_count": 56
    }
   ],
   "source": [
    "#Bottom 5 Performing Schools (BY % Overall Passing Rate)\n",
    "Lowest_five_schools = School_summary_formated.sort_values(\"Overall Passing Rate\", ascending = True)\n",
    "Lowest_five_schools.head().style.format({'Total Students': '{:,}',\n",
    "                           \"Total School Budget\": \"${:,}\", \n",
    "                           \"Per Student Budget\": \"${:.0f}\", \n",
    "                           \"% Passing Math\": \"{:.1%}\", \n",
    "                           \"% Passing Reading\": \"{:.1%}\", \n",
    "                           \"Overall Passing Rate\": \"{:.1%}\"})"
   ]
  },
  {
   "cell_type": "code",
   "execution_count": 77,
   "metadata": {},
   "outputs": [
    {
     "output_type": "execute_result",
     "data": {
      "text/plain": [
       "             School Names  9th Avg Math Score  10th Avg Math Score  \\\n",
       "0      Bailey High School           77.083676            76.996772   \n",
       "1     Cabrera High School           83.094697            83.154506   \n",
       "2    Figueroa High School           76.403037            76.539974   \n",
       "3        Ford High School           77.361345            77.672316   \n",
       "4     Griffin High School           82.044010            84.229064   \n",
       "5   Hernandez High School           77.438495            77.337408   \n",
       "6      Holden High School           83.787402            83.429825   \n",
       "7       Huang High School           77.027251            75.908735   \n",
       "8     Johnson High School           77.187857            76.691117   \n",
       "9        Pena High School           83.625455            83.372000   \n",
       "10  Rodriguez High School           76.859966            76.612500   \n",
       "11    Shelton High School           83.420755            82.917411   \n",
       "12     Thomas High School           83.590022            83.087886   \n",
       "13     Wilson High School           83.085578            83.724422   \n",
       "14     Wright High School           83.264706            84.010288   \n",
       "\n",
       "    11th Avg Math Score  12th Avg Math Score  \n",
       "0             77.515588            76.492218  \n",
       "1             82.765560            83.277487  \n",
       "2             76.884344            77.151369  \n",
       "3             76.918058            76.179963  \n",
       "4             83.842105            83.356164  \n",
       "5             77.136029            77.186567  \n",
       "6             85.000000            82.855422  \n",
       "7             76.446602            77.225641  \n",
       "8             77.491653            76.863248  \n",
       "9             84.328125            84.121547  \n",
       "10            76.395626            77.690748  \n",
       "11            83.383495            83.778976  \n",
       "12            83.498795            83.497041  \n",
       "13            83.195326            83.035794  \n",
       "14            83.836782            83.644986  "
      ],
      "text/html": "<div>\n<style scoped>\n    .dataframe tbody tr th:only-of-type {\n        vertical-align: middle;\n    }\n\n    .dataframe tbody tr th {\n        vertical-align: top;\n    }\n\n    .dataframe thead th {\n        text-align: right;\n    }\n</style>\n<table border=\"1\" class=\"dataframe\">\n  <thead>\n    <tr style=\"text-align: right;\">\n      <th></th>\n      <th>School Names</th>\n      <th>9th Avg Math Score</th>\n      <th>10th Avg Math Score</th>\n      <th>11th Avg Math Score</th>\n      <th>12th Avg Math Score</th>\n    </tr>\n  </thead>\n  <tbody>\n    <tr>\n      <th>0</th>\n      <td>Bailey High School</td>\n      <td>77.083676</td>\n      <td>76.996772</td>\n      <td>77.515588</td>\n      <td>76.492218</td>\n    </tr>\n    <tr>\n      <th>1</th>\n      <td>Cabrera High School</td>\n      <td>83.094697</td>\n      <td>83.154506</td>\n      <td>82.765560</td>\n      <td>83.277487</td>\n    </tr>\n    <tr>\n      <th>2</th>\n      <td>Figueroa High School</td>\n      <td>76.403037</td>\n      <td>76.539974</td>\n      <td>76.884344</td>\n      <td>77.151369</td>\n    </tr>\n    <tr>\n      <th>3</th>\n      <td>Ford High School</td>\n      <td>77.361345</td>\n      <td>77.672316</td>\n      <td>76.918058</td>\n      <td>76.179963</td>\n    </tr>\n    <tr>\n      <th>4</th>\n      <td>Griffin High School</td>\n      <td>82.044010</td>\n      <td>84.229064</td>\n      <td>83.842105</td>\n      <td>83.356164</td>\n    </tr>\n    <tr>\n      <th>5</th>\n      <td>Hernandez High School</td>\n      <td>77.438495</td>\n      <td>77.337408</td>\n      <td>77.136029</td>\n      <td>77.186567</td>\n    </tr>\n    <tr>\n      <th>6</th>\n      <td>Holden High School</td>\n      <td>83.787402</td>\n      <td>83.429825</td>\n      <td>85.000000</td>\n      <td>82.855422</td>\n    </tr>\n    <tr>\n      <th>7</th>\n      <td>Huang High School</td>\n      <td>77.027251</td>\n      <td>75.908735</td>\n      <td>76.446602</td>\n      <td>77.225641</td>\n    </tr>\n    <tr>\n      <th>8</th>\n      <td>Johnson High School</td>\n      <td>77.187857</td>\n      <td>76.691117</td>\n      <td>77.491653</td>\n      <td>76.863248</td>\n    </tr>\n    <tr>\n      <th>9</th>\n      <td>Pena High School</td>\n      <td>83.625455</td>\n      <td>83.372000</td>\n      <td>84.328125</td>\n      <td>84.121547</td>\n    </tr>\n    <tr>\n      <th>10</th>\n      <td>Rodriguez High School</td>\n      <td>76.859966</td>\n      <td>76.612500</td>\n      <td>76.395626</td>\n      <td>77.690748</td>\n    </tr>\n    <tr>\n      <th>11</th>\n      <td>Shelton High School</td>\n      <td>83.420755</td>\n      <td>82.917411</td>\n      <td>83.383495</td>\n      <td>83.778976</td>\n    </tr>\n    <tr>\n      <th>12</th>\n      <td>Thomas High School</td>\n      <td>83.590022</td>\n      <td>83.087886</td>\n      <td>83.498795</td>\n      <td>83.497041</td>\n    </tr>\n    <tr>\n      <th>13</th>\n      <td>Wilson High School</td>\n      <td>83.085578</td>\n      <td>83.724422</td>\n      <td>83.195326</td>\n      <td>83.035794</td>\n    </tr>\n    <tr>\n      <th>14</th>\n      <td>Wright High School</td>\n      <td>83.264706</td>\n      <td>84.010288</td>\n      <td>83.836782</td>\n      <td>83.644986</td>\n    </tr>\n  </tbody>\n</table>\n</div>"
     },
     "metadata": {},
     "execution_count": 77
    }
   ],
   "source": [
    "#Math Scores By Grade \n",
    "\n",
    "#Create function to create a serises for average math score by grade  \n",
    "def average_math_by_grade(grade):\n",
    "    school_summary = school_data_complete.loc[school_data_complete.grade == grade].groupby(['school_name'])\n",
    "    school_names = school_data_complete.school_name.sort_values().unique()\n",
    "    school_avg_math_score = list(school_summary.math_score.mean())\n",
    "\n",
    "    # Compile all calculations into dataframe\n",
    "    average_math_df = pd.DataFrame({\"School Names\":school_names,\n",
    "                                    f\"{grade} Avg Math Score\":school_avg_math_score})\n",
    "\n",
    "    average_math_df = average_math_df.reset_index(drop=True)\n",
    "    return average_math_df\n",
    "\n",
    "# Create series for each grade and group by school\n",
    "grade_9 = average_math_by_grade('9th')\n",
    "grade_10 = average_math_by_grade('10th')\n",
    "grade_11 = average_math_by_grade('11th')\n",
    "grade_12 = average_math_by_grade('12th')\n",
    "avg_math_score_by_grade = pd.merge(grade_9,grade_10,how='inner',suffixes=('',''))\n",
    "avg_math_score_by_grade = pd.merge(avg_math_score_by_grade,grade_11,how='inner',suffixes=('',''))\n",
    "avg_math_score_by_grade = pd.merge(avg_math_score_by_grade,grade_12,how='inner',suffixes=('',''))\n",
    "avg_math_score_by_grade\n"
   ]
  },
  {
   "cell_type": "code",
   "execution_count": 80,
   "metadata": {},
   "outputs": [
    {
     "output_type": "execute_result",
     "data": {
      "text/plain": [
       "             School Names  9th Avg Reading Score  10th Avg Reading Score  \\\n",
       "0      Bailey High School              81.303155               80.907183   \n",
       "1     Cabrera High School              83.676136               84.253219   \n",
       "2    Figueroa High School              81.198598               81.408912   \n",
       "3        Ford High School              80.632653               81.262712   \n",
       "4     Griffin High School              83.369193               83.706897   \n",
       "5   Hernandez High School              80.866860               80.660147   \n",
       "6      Holden High School              83.677165               83.324561   \n",
       "7       Huang High School              81.290284               81.512386   \n",
       "8     Johnson High School              81.260714               80.773431   \n",
       "9        Pena High School              83.807273               83.612000   \n",
       "10  Rodriguez High School              80.993127               80.629808   \n",
       "11    Shelton High School              84.122642               83.441964   \n",
       "12     Thomas High School              83.728850               84.254157   \n",
       "13     Wilson High School              83.939778               84.021452   \n",
       "14     Wright High School              83.833333               83.812757   \n",
       "\n",
       "    11th Avg Reading Score  12th Avg Reading Score  \n",
       "0                80.945643               80.912451  \n",
       "1                83.788382               84.287958  \n",
       "2                80.640339               81.384863  \n",
       "3                80.403642               80.662338  \n",
       "4                84.288089               84.013699  \n",
       "5                81.396140               80.857143  \n",
       "6                83.815534               84.698795  \n",
       "7                81.417476               80.305983  \n",
       "8                80.616027               81.227564  \n",
       "9                84.335938               84.591160  \n",
       "10               80.864811               80.376426  \n",
       "11               84.373786               82.781671  \n",
       "12               83.585542               83.831361  \n",
       "13               83.764608               84.317673  \n",
       "14               84.156322               84.073171  "
      ],
      "text/html": "<div>\n<style scoped>\n    .dataframe tbody tr th:only-of-type {\n        vertical-align: middle;\n    }\n\n    .dataframe tbody tr th {\n        vertical-align: top;\n    }\n\n    .dataframe thead th {\n        text-align: right;\n    }\n</style>\n<table border=\"1\" class=\"dataframe\">\n  <thead>\n    <tr style=\"text-align: right;\">\n      <th></th>\n      <th>School Names</th>\n      <th>9th Avg Reading Score</th>\n      <th>10th Avg Reading Score</th>\n      <th>11th Avg Reading Score</th>\n      <th>12th Avg Reading Score</th>\n    </tr>\n  </thead>\n  <tbody>\n    <tr>\n      <th>0</th>\n      <td>Bailey High School</td>\n      <td>81.303155</td>\n      <td>80.907183</td>\n      <td>80.945643</td>\n      <td>80.912451</td>\n    </tr>\n    <tr>\n      <th>1</th>\n      <td>Cabrera High School</td>\n      <td>83.676136</td>\n      <td>84.253219</td>\n      <td>83.788382</td>\n      <td>84.287958</td>\n    </tr>\n    <tr>\n      <th>2</th>\n      <td>Figueroa High School</td>\n      <td>81.198598</td>\n      <td>81.408912</td>\n      <td>80.640339</td>\n      <td>81.384863</td>\n    </tr>\n    <tr>\n      <th>3</th>\n      <td>Ford High School</td>\n      <td>80.632653</td>\n      <td>81.262712</td>\n      <td>80.403642</td>\n      <td>80.662338</td>\n    </tr>\n    <tr>\n      <th>4</th>\n      <td>Griffin High School</td>\n      <td>83.369193</td>\n      <td>83.706897</td>\n      <td>84.288089</td>\n      <td>84.013699</td>\n    </tr>\n    <tr>\n      <th>5</th>\n      <td>Hernandez High School</td>\n      <td>80.866860</td>\n      <td>80.660147</td>\n      <td>81.396140</td>\n      <td>80.857143</td>\n    </tr>\n    <tr>\n      <th>6</th>\n      <td>Holden High School</td>\n      <td>83.677165</td>\n      <td>83.324561</td>\n      <td>83.815534</td>\n      <td>84.698795</td>\n    </tr>\n    <tr>\n      <th>7</th>\n      <td>Huang High School</td>\n      <td>81.290284</td>\n      <td>81.512386</td>\n      <td>81.417476</td>\n      <td>80.305983</td>\n    </tr>\n    <tr>\n      <th>8</th>\n      <td>Johnson High School</td>\n      <td>81.260714</td>\n      <td>80.773431</td>\n      <td>80.616027</td>\n      <td>81.227564</td>\n    </tr>\n    <tr>\n      <th>9</th>\n      <td>Pena High School</td>\n      <td>83.807273</td>\n      <td>83.612000</td>\n      <td>84.335938</td>\n      <td>84.591160</td>\n    </tr>\n    <tr>\n      <th>10</th>\n      <td>Rodriguez High School</td>\n      <td>80.993127</td>\n      <td>80.629808</td>\n      <td>80.864811</td>\n      <td>80.376426</td>\n    </tr>\n    <tr>\n      <th>11</th>\n      <td>Shelton High School</td>\n      <td>84.122642</td>\n      <td>83.441964</td>\n      <td>84.373786</td>\n      <td>82.781671</td>\n    </tr>\n    <tr>\n      <th>12</th>\n      <td>Thomas High School</td>\n      <td>83.728850</td>\n      <td>84.254157</td>\n      <td>83.585542</td>\n      <td>83.831361</td>\n    </tr>\n    <tr>\n      <th>13</th>\n      <td>Wilson High School</td>\n      <td>83.939778</td>\n      <td>84.021452</td>\n      <td>83.764608</td>\n      <td>84.317673</td>\n    </tr>\n    <tr>\n      <th>14</th>\n      <td>Wright High School</td>\n      <td>83.833333</td>\n      <td>83.812757</td>\n      <td>84.156322</td>\n      <td>84.073171</td>\n    </tr>\n  </tbody>\n</table>\n</div>"
     },
     "metadata": {},
     "execution_count": 80
    }
   ],
   "source": [
    "# Function to create series for average reading score by grade\n",
    "def average_reading_by_grade(grade):\n",
    "    school_summary = school_data_complete.loc[school_data_complete.grade == grade].groupby(['school_name'])\n",
    "    school_names = school_data_complete.school_name.sort_values().unique()\n",
    "    school_avg_reading_score = list(school_summary.reading_score.mean())\n",
    "\n",
    "    # Compile all calculations into dataframe\n",
    "    average_reading_df = pd.DataFrame({\"School Names\":school_names,\n",
    "                                    f\"{grade} Avg Reading Score\":school_avg_reading_score})\n",
    "\n",
    "    average_reading_df = average_reading_df.reset_index(drop=True)\n",
    "    return average_reading_df\n",
    "    \n",
    "# Create series for each grade and group by school\n",
    "grade_9 = average_reading_by_grade('9th')\n",
    "grade_10 = average_reading_by_grade('10th')\n",
    "grade_11 = average_reading_by_grade('11th')\n",
    "grade_12 = average_reading_by_grade('12th')\n",
    "avg_reading_score_by_grade = pd.merge(grade_9,grade_10,how='inner',suffixes=('',''))\n",
    "avg_reading_score_by_grade = pd.merge(avg_reading_score_by_grade,grade_11,how='inner',suffixes=('',''))\n",
    "avg_reading_score_by_grade = pd.merge(avg_reading_score_by_grade,grade_12,how='inner',suffixes=('',''))\n",
    "avg_reading_score_by_grade\n"
   ]
  },
  {
   "cell_type": "code",
   "execution_count": 82,
   "metadata": {},
   "outputs": [
    {
     "output_type": "execute_result",
     "data": {
      "text/plain": [
       "<pandas.io.formats.style.Styler at 0x17c4126e580>"
      ],
      "text/html": "<style  type=\"text/css\" >\n</style><table id=\"T_33727345_e2f9_11eb_ae11_ccf9e49b12c9\" ><thead>    <tr>        <th class=\"blank level0\" ></th>        <th class=\"col_heading level0 col0\" >Average Math Score</th>        <th class=\"col_heading level0 col1\" >Average Reading Score</th>        <th class=\"col_heading level0 col2\" >% Passing Math</th>        <th class=\"col_heading level0 col3\" >% Passing Reading</th>        <th class=\"col_heading level0 col4\" >Overall Passing Rate</th>    </tr>    <tr>        <th class=\"index_name level0\" >Per Student Budget</th>        <th class=\"blank\" ></th>        <th class=\"blank\" ></th>        <th class=\"blank\" ></th>        <th class=\"blank\" ></th>        <th class=\"blank\" ></th>    </tr></thead><tbody>\n                <tr>\n                        <th id=\"T_33727345_e2f9_11eb_ae11_ccf9e49b12c9level0_row0\" class=\"row_heading level0 row0\" >< $585</th>\n                        <td id=\"T_33727345_e2f9_11eb_ae11_ccf9e49b12c9row0_col0\" class=\"data row0 col0\" >83.4</td>\n                        <td id=\"T_33727345_e2f9_11eb_ae11_ccf9e49b12c9row0_col1\" class=\"data row0 col1\" >84.0</td>\n                        <td id=\"T_33727345_e2f9_11eb_ae11_ccf9e49b12c9row0_col2\" class=\"data row0 col2\" >93.7%</td>\n                        <td id=\"T_33727345_e2f9_11eb_ae11_ccf9e49b12c9row0_col3\" class=\"data row0 col3\" >96.7%</td>\n                        <td id=\"T_33727345_e2f9_11eb_ae11_ccf9e49b12c9row0_col4\" class=\"data row0 col4\" >90.6%</td>\n            </tr>\n            <tr>\n                        <th id=\"T_33727345_e2f9_11eb_ae11_ccf9e49b12c9level0_row1\" class=\"row_heading level0 row1\" >$585 - 614</th>\n                        <td id=\"T_33727345_e2f9_11eb_ae11_ccf9e49b12c9row1_col0\" class=\"data row1 col0\" >83.5</td>\n                        <td id=\"T_33727345_e2f9_11eb_ae11_ccf9e49b12c9row1_col1\" class=\"data row1 col1\" >83.8</td>\n                        <td id=\"T_33727345_e2f9_11eb_ae11_ccf9e49b12c9row1_col2\" class=\"data row1 col2\" >94.1%</td>\n                        <td id=\"T_33727345_e2f9_11eb_ae11_ccf9e49b12c9row1_col3\" class=\"data row1 col3\" >95.9%</td>\n                        <td id=\"T_33727345_e2f9_11eb_ae11_ccf9e49b12c9row1_col4\" class=\"data row1 col4\" >90.1%</td>\n            </tr>\n            <tr>\n                        <th id=\"T_33727345_e2f9_11eb_ae11_ccf9e49b12c9level0_row2\" class=\"row_heading level0 row2\" >$615 - 644</th>\n                        <td id=\"T_33727345_e2f9_11eb_ae11_ccf9e49b12c9row2_col0\" class=\"data row2 col0\" >78.1</td>\n                        <td id=\"T_33727345_e2f9_11eb_ae11_ccf9e49b12c9row2_col1\" class=\"data row2 col1\" >81.4</td>\n                        <td id=\"T_33727345_e2f9_11eb_ae11_ccf9e49b12c9row2_col2\" class=\"data row2 col2\" >71.4%</td>\n                        <td id=\"T_33727345_e2f9_11eb_ae11_ccf9e49b12c9row2_col3\" class=\"data row2 col3\" >83.6%</td>\n                        <td id=\"T_33727345_e2f9_11eb_ae11_ccf9e49b12c9row2_col4\" class=\"data row2 col4\" >60.3%</td>\n            </tr>\n            <tr>\n                        <th id=\"T_33727345_e2f9_11eb_ae11_ccf9e49b12c9level0_row3\" class=\"row_heading level0 row3\" >> $644</th>\n                        <td id=\"T_33727345_e2f9_11eb_ae11_ccf9e49b12c9row3_col0\" class=\"data row3 col0\" >77.0</td>\n                        <td id=\"T_33727345_e2f9_11eb_ae11_ccf9e49b12c9row3_col1\" class=\"data row3 col1\" >81.0</td>\n                        <td id=\"T_33727345_e2f9_11eb_ae11_ccf9e49b12c9row3_col2\" class=\"data row3 col2\" >66.2%</td>\n                        <td id=\"T_33727345_e2f9_11eb_ae11_ccf9e49b12c9row3_col3\" class=\"data row3 col3\" >81.1%</td>\n                        <td id=\"T_33727345_e2f9_11eb_ae11_ccf9e49b12c9row3_col4\" class=\"data row3 col4\" >53.5%</td>\n            </tr>\n    </tbody></table>"
     },
     "metadata": {},
     "execution_count": 82
    }
   ],
   "source": [
    "# Scores By School Spending \n",
    "# create spending bins\n",
    "bins = [0, 584.999, 614.999, 644.999, 999999]\n",
    "group_name = ['< $585', \"$585 - 614\", \"$615 - 644\", \"> $644\"]\n",
    "school_data_complete['spending_bins'] = pd.cut(school_data_complete['budget']/school_data_complete['size'], bins, labels = group_name)\n",
    "\n",
    "#group by spending\n",
    "spending_Each = school_data_complete.groupby('spending_bins')\n",
    "\n",
    "#calculations\n",
    "avg_math = spending_Each['math_score'].mean()\n",
    "avg_read = spending_Each['reading_score'].mean()\n",
    "pass_math = school_data_complete[school_data_complete['math_score'] >= 70].groupby('spending_bins')['Student ID'].count()/spending_Each['Student ID'].count()\n",
    "pass_read = school_data_complete[school_data_complete['reading_score'] >= 70].groupby('spending_bins')['Student ID'].count()/spending_Each['Student ID'].count()\n",
    "overall = school_data_complete[(school_data_complete['reading_score'] >= 70) & (school_data_complete['math_score'] >= 70)].groupby('spending_bins')['Student ID'].count()/spending_Each['Student ID'].count()\n",
    "\n",
    "            \n",
    "# df build            \n",
    "scores_by_spend = pd.DataFrame({\n",
    "    \"Average Math Score\": avg_math,\n",
    "    \"Average Reading Score\": avg_read,\n",
    "    '% Passing Math': pass_math,\n",
    "    '% Passing Reading': pass_read,\n",
    "    \"Overall Passing Rate\": overall\n",
    "            \n",
    "})\n",
    "            \n",
    "#reorder columns\n",
    "scores_by_spend = scores_by_spend[[\n",
    "    \"Average Math Score\",\n",
    "    \"Average Reading Score\",\n",
    "    '% Passing Math',\n",
    "    '% Passing Reading',\n",
    "    \"Overall Passing Rate\"\n",
    "]]\n",
    "\n",
    "scores_by_spend.index.name = \"Per Student Budget\"\n",
    "scores_by_spend = scores_by_spend.reindex(group_name)\n",
    "\n",
    "#formating\n",
    "scores_by_spend.style.format({'Average Math Score': '{:.1f}', \n",
    "                              'Average Reading Score': '{:.1f}', \n",
    "                              '% Passing Math': '{:.1%}', \n",
    "                              '% Passing Reading':'{:.1%}', \n",
    "                              'Overall Passing Rate': '{:.1%}'})"
   ]
  },
  {
   "cell_type": "code",
   "execution_count": 84,
   "metadata": {},
   "outputs": [
    {
     "output_type": "execute_result",
     "data": {
      "text/plain": [
       "<pandas.io.formats.style.Styler at 0x17c420523a0>"
      ],
      "text/html": "<style  type=\"text/css\" >\n</style><table id=\"T_46147a4f_e2fa_11eb_9626_ccf9e49b12c9\" ><thead>    <tr>        <th class=\"blank level0\" ></th>        <th class=\"col_heading level0 col0\" >Average Math Score</th>        <th class=\"col_heading level0 col1\" >Average Reading Score</th>        <th class=\"col_heading level0 col2\" >% Passing Math</th>        <th class=\"col_heading level0 col3\" >% Passing Reading</th>        <th class=\"col_heading level0 col4\" >Overall Passing Rate</th>    </tr>    <tr>        <th class=\"index_name level0\" >Total Students</th>        <th class=\"blank\" ></th>        <th class=\"blank\" ></th>        <th class=\"blank\" ></th>        <th class=\"blank\" ></th>        <th class=\"blank\" ></th>    </tr></thead><tbody>\n                <tr>\n                        <th id=\"T_46147a4f_e2fa_11eb_9626_ccf9e49b12c9level0_row0\" class=\"row_heading level0 row0\" >Small (<1000)</th>\n                        <td id=\"T_46147a4f_e2fa_11eb_9626_ccf9e49b12c9row0_col0\" class=\"data row0 col0\" >83.8</td>\n                        <td id=\"T_46147a4f_e2fa_11eb_9626_ccf9e49b12c9row0_col1\" class=\"data row0 col1\" >83.8</td>\n                        <td id=\"T_46147a4f_e2fa_11eb_9626_ccf9e49b12c9row0_col2\" class=\"data row0 col2\" >94.0%</td>\n                        <td id=\"T_46147a4f_e2fa_11eb_9626_ccf9e49b12c9row0_col3\" class=\"data row0 col3\" >96.0%</td>\n                        <td id=\"T_46147a4f_e2fa_11eb_9626_ccf9e49b12c9row0_col4\" class=\"data row0 col4\" >90.1%</td>\n            </tr>\n            <tr>\n                        <th id=\"T_46147a4f_e2fa_11eb_9626_ccf9e49b12c9level0_row1\" class=\"row_heading level0 row1\" >Medium (1000-2000)</th>\n                        <td id=\"T_46147a4f_e2fa_11eb_9626_ccf9e49b12c9row1_col0\" class=\"data row1 col0\" >83.4</td>\n                        <td id=\"T_46147a4f_e2fa_11eb_9626_ccf9e49b12c9row1_col1\" class=\"data row1 col1\" >83.4</td>\n                        <td id=\"T_46147a4f_e2fa_11eb_9626_ccf9e49b12c9row1_col2\" class=\"data row1 col2\" >93.6%</td>\n                        <td id=\"T_46147a4f_e2fa_11eb_9626_ccf9e49b12c9row1_col3\" class=\"data row1 col3\" >96.8%</td>\n                        <td id=\"T_46147a4f_e2fa_11eb_9626_ccf9e49b12c9row1_col4\" class=\"data row1 col4\" >90.6%</td>\n            </tr>\n            <tr>\n                        <th id=\"T_46147a4f_e2fa_11eb_9626_ccf9e49b12c9level0_row2\" class=\"row_heading level0 row2\" >Large (>2000)</th>\n                        <td id=\"T_46147a4f_e2fa_11eb_9626_ccf9e49b12c9row2_col0\" class=\"data row2 col0\" >77.5</td>\n                        <td id=\"T_46147a4f_e2fa_11eb_9626_ccf9e49b12c9row2_col1\" class=\"data row2 col1\" >77.5</td>\n                        <td id=\"T_46147a4f_e2fa_11eb_9626_ccf9e49b12c9row2_col2\" class=\"data row2 col2\" >68.7%</td>\n                        <td id=\"T_46147a4f_e2fa_11eb_9626_ccf9e49b12c9row2_col3\" class=\"data row2 col3\" >82.1%</td>\n                        <td id=\"T_46147a4f_e2fa_11eb_9626_ccf9e49b12c9row2_col4\" class=\"data row2 col4\" >56.6%</td>\n            </tr>\n    </tbody></table>"
     },
     "metadata": {},
     "execution_count": 84
    }
   ],
   "source": [
    "# Scores By School Size \n",
    "# create size bins\n",
    "bins = [0, 999, 1999, 99999999999]\n",
    "group_name = [\"Small (<1000)\", \"Medium (1000-2000)\" , \"Large (>2000)\"]\n",
    "school_data_complete['size_bins'] = pd.cut(school_data_complete['size'], bins, labels = group_name)\n",
    "\n",
    "#group by spending\n",
    "school_size = school_data_complete.groupby('size_bins')\n",
    "\n",
    "#calculations \n",
    "avg_math = school_size['math_score'].mean()\n",
    "avg_read = school_size['math_score'].mean()\n",
    "pass_math = school_data_complete[school_data_complete['math_score'] >= 70].groupby('size_bins')['Student ID'].count()/school_size['Student ID'].count()\n",
    "pass_read = school_data_complete[school_data_complete['reading_score'] >= 70].groupby('size_bins')['Student ID'].count()/school_size['Student ID'].count()\n",
    "overall = school_data_complete[(school_data_complete['reading_score'] >= 70) & (school_data_complete['math_score'] >= 70)].groupby('size_bins')['Student ID'].count()/school_size['Student ID'].count()\n",
    "\n",
    "            \n",
    "# df build            \n",
    "scores_by_size = pd.DataFrame({\n",
    "    \"Average Math Score\": avg_math,\n",
    "    \"Average Reading Score\": avg_read,\n",
    "    '% Passing Math': pass_math,\n",
    "    '% Passing Reading': pass_read,\n",
    "    \"Overall Passing Rate\": overall\n",
    "            \n",
    "})\n",
    "            \n",
    "#reorder columns\n",
    "scores_by_size = scores_by_size[[\n",
    "    \"Average Math Score\",\n",
    "    \"Average Reading Score\",\n",
    "    '% Passing Math',\n",
    "    '% Passing Reading',\n",
    "    \"Overall Passing Rate\"\n",
    "]]\n",
    "\n",
    "scores_by_size.index.name = \"Total Students\"\n",
    "scores_by_size = scores_by_size.reindex(group_name)\n",
    "\n",
    "#formating\n",
    "scores_by_size.style.format({'Average Math Score': '{:.1f}', \n",
    "                              'Average Reading Score': '{:.1f}', \n",
    "                              '% Passing Math': '{:.1%}', \n",
    "                              '% Passing Reading':'{:.1%}', \n",
    "                              'Overall Passing Rate': '{:.1%}'})"
   ]
  },
  {
   "cell_type": "code",
   "execution_count": 99,
   "metadata": {},
   "outputs": [
    {
     "output_type": "execute_result",
     "data": {
      "text/plain": [
       "             Average Math Score  Average Reading Score  % Passing Math  \\\n",
       "School Type                                                              \n",
       "Charter               83.473852              83.896421        0.936208   \n",
       "District              76.956733              80.966636        0.665485   \n",
       "\n",
       "             % Passing Reading  Overall Passing Rate  \n",
       "School Type                                           \n",
       "Charter               0.965865              0.904322  \n",
       "District              0.807991              0.536722  "
      ],
      "text/html": "<div>\n<style scoped>\n    .dataframe tbody tr th:only-of-type {\n        vertical-align: middle;\n    }\n\n    .dataframe tbody tr th {\n        vertical-align: top;\n    }\n\n    .dataframe thead th {\n        text-align: right;\n    }\n</style>\n<table border=\"1\" class=\"dataframe\">\n  <thead>\n    <tr style=\"text-align: right;\">\n      <th></th>\n      <th>Average Math Score</th>\n      <th>Average Reading Score</th>\n      <th>% Passing Math</th>\n      <th>% Passing Reading</th>\n      <th>Overall Passing Rate</th>\n    </tr>\n    <tr>\n      <th>School Type</th>\n      <th></th>\n      <th></th>\n      <th></th>\n      <th></th>\n      <th></th>\n    </tr>\n  </thead>\n  <tbody>\n    <tr>\n      <th>Charter</th>\n      <td>83.473852</td>\n      <td>83.896421</td>\n      <td>0.936208</td>\n      <td>0.965865</td>\n      <td>0.904322</td>\n    </tr>\n    <tr>\n      <th>District</th>\n      <td>76.956733</td>\n      <td>80.966636</td>\n      <td>0.665485</td>\n      <td>0.807991</td>\n      <td>0.536722</td>\n    </tr>\n  </tbody>\n</table>\n</div>"
     },
     "metadata": {},
     "execution_count": 99
    }
   ],
   "source": [
    "scores_by_type = School_summary_formated[[\"School Type\",\n",
    "                                    \"Average Math Score\",\n",
    "                                    \"Average Reading Score\",\n",
    "                                    \"% Passing Math\",\n",
    "                                    \"% Passing Reading\",\n",
    "                                    \"Overall Passing Rate\"]]\n",
    "scores_by_type = scores_by_type.groupby(\"School Type\")\n",
    "scores_by_type.mean()"
   ]
  },
  {
   "cell_type": "code",
   "execution_count": null,
   "metadata": {},
   "outputs": [],
   "source": []
  }
 ]
}